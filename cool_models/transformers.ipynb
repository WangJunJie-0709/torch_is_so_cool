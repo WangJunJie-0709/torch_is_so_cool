{
 "cells": [
  {
   "cell_type": "code",
   "execution_count": 3,
   "metadata": {
    "collapsed": true
   },
   "outputs": [],
   "source": [
    "import torch\n",
    "import torch.nn as nn\n",
    "import torch.nn.functional as F\n",
    "import numpy as np\n",
    "print(torch.cuda.is_available())"
   ]
  },
  {
   "cell_type": "markdown",
   "source": [
    "# word embedding"
   ],
   "metadata": {
    "collapsed": false,
    "pycharm": {
     "name": "#%% md\n"
    }
   }
  },
  {
   "cell_type": "code",
   "execution_count": 15,
   "outputs": [],
   "source": [
    "# 考虑source和target sentence\n",
    "# 构建序列，序列的字符以其在词表中的索引形式表示\n",
    "batch_size = 5\n",
    "seed = 42\n",
    "\n",
    "# 单词表大小\n",
    "max_num_src_words = 8\n",
    "max_num_tar_words = 8\n",
    "\n",
    "# 序列最大长度\n",
    "max_src_seq_len = 5\n",
    "max_tar_seq_len = 5\n",
    "\n",
    "src_len = torch.randint(2, max_src_seq_len, (batch_size, ))\n",
    "tar_len = torch.randint(2, max_tar_seq_len, (batch_size, ))\n",
    "src_seq = torch.cat([torch.unsqueeze(F.pad(torch.randint(1, max_num_src_words, (L, )), (0, max_src_seq_len - L)), 0) for L in src_len])\n",
    "tar_seq = torch.cat([torch.unsqueeze(F.pad(torch.randint(1, max_num_tar_words, (L, )), (0, max_tar_seq_len - L)), 0) for L in tar_len])"
   ],
   "metadata": {
    "collapsed": false,
    "pycharm": {
     "name": "#%%\n"
    }
   }
  },
  {
   "cell_type": "code",
   "execution_count": 16,
   "outputs": [
    {
     "name": "stdout",
     "output_type": "stream",
     "text": [
      "tensor([3, 2, 2, 2, 4])\n",
      "tensor([[2, 2, 2, 0, 0],\n",
      "        [5, 3, 0, 0, 0],\n",
      "        [3, 1, 0, 0, 0],\n",
      "        [1, 2, 0, 0, 0],\n",
      "        [6, 2, 7, 1, 0]])\n"
     ]
    }
   ],
   "source": [
    "print(tar_len)\n",
    "print(tar_seq)"
   ],
   "metadata": {
    "collapsed": false,
    "pycharm": {
     "name": "#%%\n"
    }
   }
  },
  {
   "cell_type": "code",
   "execution_count": 37,
   "outputs": [],
   "source": [
    "# 构造embedding\n",
    "model_dim = 8\n",
    "src_embedding_table = nn.Embedding(max_num_src_words + 1, model_dim)\n",
    "tar_embedding_table = nn.Embedding(max_num_tar_words + 1, model_dim)\n",
    "\n",
    "src_embedding = src_embedding_table(src_seq)\n",
    "tar_embedding = tar_embedding_table(tar_seq)"
   ],
   "metadata": {
    "collapsed": false,
    "pycharm": {
     "name": "#%%\n"
    }
   }
  },
  {
   "cell_type": "code",
   "execution_count": 38,
   "outputs": [
    {
     "name": "stdout",
     "output_type": "stream",
     "text": [
      "Parameter containing:\n",
      "tensor([[ 1.1577, -1.1033, -0.0046,  0.2951,  1.1064, -0.4616,  0.0740, -1.2800],\n",
      "        [-1.0922,  0.9452,  1.6080,  0.1181, -0.5269, -0.5717,  1.2725, -0.9821],\n",
      "        [-0.3340,  0.5336, -0.3190,  0.3476, -0.1858, -0.8630,  0.0159, -1.2126],\n",
      "        [-1.1064,  0.2684,  2.5226, -0.1207,  0.3365, -1.1780, -3.2235, -0.9720],\n",
      "        [-1.4668, -0.9273, -1.0133,  1.0210, -1.0476, -0.3432, -0.7435, -0.6645],\n",
      "        [-0.1514, -0.5776, -0.4437, -0.2365, -0.1730,  0.4924, -0.6754, -0.3440],\n",
      "        [-0.7918,  0.3064,  1.4678, -1.1451,  1.5427, -1.2430,  1.6119,  0.1663],\n",
      "        [ 1.8051,  1.1401, -1.3318,  1.1858, -1.7826, -1.3912,  0.7077, -1.3698],\n",
      "        [ 0.2001, -0.2227,  1.6947, -0.1528, -2.4707, -1.2975,  0.0355, -0.6559]],\n",
      "       requires_grad=True)\n",
      "tensor([[4, 2, 7, 0, 0],\n",
      "        [4, 2, 6, 5, 0],\n",
      "        [6, 7, 1, 1, 0],\n",
      "        [1, 2, 3, 0, 0],\n",
      "        [6, 7, 6, 3, 0]])\n",
      "tensor([[[-1.4668, -0.9273, -1.0133,  1.0210, -1.0476, -0.3432, -0.7435,\n",
      "          -0.6645],\n",
      "         [-0.3340,  0.5336, -0.3190,  0.3476, -0.1858, -0.8630,  0.0159,\n",
      "          -1.2126],\n",
      "         [ 1.8051,  1.1401, -1.3318,  1.1858, -1.7826, -1.3912,  0.7077,\n",
      "          -1.3698],\n",
      "         [ 1.1577, -1.1033, -0.0046,  0.2951,  1.1064, -0.4616,  0.0740,\n",
      "          -1.2800],\n",
      "         [ 1.1577, -1.1033, -0.0046,  0.2951,  1.1064, -0.4616,  0.0740,\n",
      "          -1.2800]],\n",
      "\n",
      "        [[-1.4668, -0.9273, -1.0133,  1.0210, -1.0476, -0.3432, -0.7435,\n",
      "          -0.6645],\n",
      "         [-0.3340,  0.5336, -0.3190,  0.3476, -0.1858, -0.8630,  0.0159,\n",
      "          -1.2126],\n",
      "         [-0.7918,  0.3064,  1.4678, -1.1451,  1.5427, -1.2430,  1.6119,\n",
      "           0.1663],\n",
      "         [-0.1514, -0.5776, -0.4437, -0.2365, -0.1730,  0.4924, -0.6754,\n",
      "          -0.3440],\n",
      "         [ 1.1577, -1.1033, -0.0046,  0.2951,  1.1064, -0.4616,  0.0740,\n",
      "          -1.2800]],\n",
      "\n",
      "        [[-0.7918,  0.3064,  1.4678, -1.1451,  1.5427, -1.2430,  1.6119,\n",
      "           0.1663],\n",
      "         [ 1.8051,  1.1401, -1.3318,  1.1858, -1.7826, -1.3912,  0.7077,\n",
      "          -1.3698],\n",
      "         [-1.0922,  0.9452,  1.6080,  0.1181, -0.5269, -0.5717,  1.2725,\n",
      "          -0.9821],\n",
      "         [-1.0922,  0.9452,  1.6080,  0.1181, -0.5269, -0.5717,  1.2725,\n",
      "          -0.9821],\n",
      "         [ 1.1577, -1.1033, -0.0046,  0.2951,  1.1064, -0.4616,  0.0740,\n",
      "          -1.2800]],\n",
      "\n",
      "        [[-1.0922,  0.9452,  1.6080,  0.1181, -0.5269, -0.5717,  1.2725,\n",
      "          -0.9821],\n",
      "         [-0.3340,  0.5336, -0.3190,  0.3476, -0.1858, -0.8630,  0.0159,\n",
      "          -1.2126],\n",
      "         [-1.1064,  0.2684,  2.5226, -0.1207,  0.3365, -1.1780, -3.2235,\n",
      "          -0.9720],\n",
      "         [ 1.1577, -1.1033, -0.0046,  0.2951,  1.1064, -0.4616,  0.0740,\n",
      "          -1.2800],\n",
      "         [ 1.1577, -1.1033, -0.0046,  0.2951,  1.1064, -0.4616,  0.0740,\n",
      "          -1.2800]],\n",
      "\n",
      "        [[-0.7918,  0.3064,  1.4678, -1.1451,  1.5427, -1.2430,  1.6119,\n",
      "           0.1663],\n",
      "         [ 1.8051,  1.1401, -1.3318,  1.1858, -1.7826, -1.3912,  0.7077,\n",
      "          -1.3698],\n",
      "         [-0.7918,  0.3064,  1.4678, -1.1451,  1.5427, -1.2430,  1.6119,\n",
      "           0.1663],\n",
      "         [-1.1064,  0.2684,  2.5226, -0.1207,  0.3365, -1.1780, -3.2235,\n",
      "          -0.9720],\n",
      "         [ 1.1577, -1.1033, -0.0046,  0.2951,  1.1064, -0.4616,  0.0740,\n",
      "          -1.2800]]], grad_fn=<EmbeddingBackward0>)\n"
     ]
    }
   ],
   "source": [
    "print(src_embedding_table.weight)\n",
    "print(src_seq)\n",
    "print(src_embedding)"
   ],
   "metadata": {
    "collapsed": false,
    "pycharm": {
     "name": "#%%\n"
    }
   }
  },
  {
   "cell_type": "markdown",
   "source": [
    "# position embedding"
   ],
   "metadata": {
    "collapsed": false,
    "pycharm": {
     "name": "#%% md\n"
    }
   }
  },
  {
   "cell_type": "code",
   "execution_count": 44,
   "outputs": [],
   "source": [
    "max_position_len = 5\n",
    "pos_mat = torch.arange(max_position_len).reshape(-1, 1)\n",
    "i_mat = torch.pow(10000, torch.arange(0, 8, 2).reshape(1, -1) / model_dim)\n",
    "pe_embedding_table = torch.zeros(max_position_len, model_dim)\n",
    "pe_embedding_table[:,0::2] = torch.sin(pos_mat / i_mat)\n",
    "pe_embedding_table[:,1::2] = torch.cos(pos_mat / i_mat)"
   ],
   "metadata": {
    "collapsed": false,
    "pycharm": {
     "name": "#%%\n"
    }
   }
  },
  {
   "cell_type": "code",
   "execution_count": 45,
   "outputs": [
    {
     "name": "stdout",
     "output_type": "stream",
     "text": [
      "tensor([[ 0.0000e+00,  1.0000e+00,  0.0000e+00,  1.0000e+00,  0.0000e+00,\n",
      "          1.0000e+00,  0.0000e+00,  1.0000e+00],\n",
      "        [ 8.4147e-01,  5.4030e-01,  9.9833e-02,  9.9500e-01,  9.9998e-03,\n",
      "          9.9995e-01,  1.0000e-03,  1.0000e+00],\n",
      "        [ 9.0930e-01, -4.1615e-01,  1.9867e-01,  9.8007e-01,  1.9999e-02,\n",
      "          9.9980e-01,  2.0000e-03,  1.0000e+00],\n",
      "        [ 1.4112e-01, -9.8999e-01,  2.9552e-01,  9.5534e-01,  2.9995e-02,\n",
      "          9.9955e-01,  3.0000e-03,  1.0000e+00],\n",
      "        [-7.5680e-01, -6.5364e-01,  3.8942e-01,  9.2106e-01,  3.9989e-02,\n",
      "          9.9920e-01,  4.0000e-03,  9.9999e-01]])\n"
     ]
    }
   ],
   "source": [
    "print(pe_embedding_table)"
   ],
   "metadata": {
    "collapsed": false,
    "pycharm": {
     "name": "#%%\n"
    }
   }
  },
  {
   "cell_type": "markdown",
   "source": [
    "# MASK"
   ],
   "metadata": {
    "collapsed": false,
    "pycharm": {
     "name": "#%% md\n"
    }
   }
  },
  {
   "cell_type": "code",
   "execution_count": 65,
   "outputs": [],
   "source": [
    "# [batch_size, max_src_len, max_src_len]\n",
    "valid_encoder_pos = torch.unsqueeze(torch.cat([torch.unsqueeze(F.pad(torch.ones(L), (0, max_src_seq_len - L)), 0) for L in src_len]), 2)\n",
    "valid_encoder_pos_matrix = torch.bmm(valid_encoder_pos, valid_encoder_pos.transpose(1, 2))"
   ],
   "metadata": {
    "collapsed": false,
    "pycharm": {
     "name": "#%%\n"
    }
   }
  },
  {
   "cell_type": "code",
   "execution_count": 66,
   "outputs": [
    {
     "data": {
      "text/plain": "torch.Size([5, 5, 5])"
     },
     "execution_count": 66,
     "metadata": {},
     "output_type": "execute_result"
    }
   ],
   "source": [
    "valid_encoder_pos_matrix.shape"
   ],
   "metadata": {
    "collapsed": false,
    "pycharm": {
     "name": "#%%\n"
    }
   }
  },
  {
   "cell_type": "code",
   "execution_count": 67,
   "outputs": [
    {
     "data": {
      "text/plain": "tensor([[[1., 1., 1., 0., 0.],\n         [1., 1., 1., 0., 0.],\n         [1., 1., 1., 0., 0.],\n         [0., 0., 0., 0., 0.],\n         [0., 0., 0., 0., 0.]],\n\n        [[1., 1., 1., 1., 0.],\n         [1., 1., 1., 1., 0.],\n         [1., 1., 1., 1., 0.],\n         [1., 1., 1., 1., 0.],\n         [0., 0., 0., 0., 0.]],\n\n        [[1., 1., 1., 1., 0.],\n         [1., 1., 1., 1., 0.],\n         [1., 1., 1., 1., 0.],\n         [1., 1., 1., 1., 0.],\n         [0., 0., 0., 0., 0.]],\n\n        [[1., 1., 1., 0., 0.],\n         [1., 1., 1., 0., 0.],\n         [1., 1., 1., 0., 0.],\n         [0., 0., 0., 0., 0.],\n         [0., 0., 0., 0., 0.]],\n\n        [[1., 1., 1., 1., 0.],\n         [1., 1., 1., 1., 0.],\n         [1., 1., 1., 1., 0.],\n         [1., 1., 1., 1., 0.],\n         [0., 0., 0., 0., 0.]]])"
     },
     "execution_count": 67,
     "metadata": {},
     "output_type": "execute_result"
    }
   ],
   "source": [
    "valid_encoder_pos_matrix"
   ],
   "metadata": {
    "collapsed": false,
    "pycharm": {
     "name": "#%%\n"
    }
   }
  },
  {
   "cell_type": "code",
   "execution_count": 69,
   "outputs": [
    {
     "data": {
      "text/plain": "tensor([3, 4, 4, 3, 4])"
     },
     "execution_count": 69,
     "metadata": {},
     "output_type": "execute_result"
    }
   ],
   "source": [
    "src_len"
   ],
   "metadata": {
    "collapsed": false,
    "pycharm": {
     "name": "#%%\n"
    }
   }
  },
  {
   "cell_type": "code",
   "execution_count": 70,
   "outputs": [],
   "source": [
    "invalid_encoder_pos_matrix = 1 - valid_encoder_pos_matrix\n",
    "mask_encoder_pos_matrix = invalid_encoder_pos_matrix.to(torch.bool)"
   ],
   "metadata": {
    "collapsed": false,
    "pycharm": {
     "name": "#%%\n"
    }
   }
  },
  {
   "cell_type": "code",
   "execution_count": 71,
   "outputs": [
    {
     "data": {
      "text/plain": "tensor([[[False, False, False,  True,  True],\n         [False, False, False,  True,  True],\n         [False, False, False,  True,  True],\n         [ True,  True,  True,  True,  True],\n         [ True,  True,  True,  True,  True]],\n\n        [[False, False, False, False,  True],\n         [False, False, False, False,  True],\n         [False, False, False, False,  True],\n         [False, False, False, False,  True],\n         [ True,  True,  True,  True,  True]],\n\n        [[False, False, False, False,  True],\n         [False, False, False, False,  True],\n         [False, False, False, False,  True],\n         [False, False, False, False,  True],\n         [ True,  True,  True,  True,  True]],\n\n        [[False, False, False,  True,  True],\n         [False, False, False,  True,  True],\n         [False, False, False,  True,  True],\n         [ True,  True,  True,  True,  True],\n         [ True,  True,  True,  True,  True]],\n\n        [[False, False, False, False,  True],\n         [False, False, False, False,  True],\n         [False, False, False, False,  True],\n         [False, False, False, False,  True],\n         [ True,  True,  True,  True,  True]]])"
     },
     "execution_count": 71,
     "metadata": {},
     "output_type": "execute_result"
    }
   ],
   "source": [
    "mask_encoder_pos_matrix"
   ],
   "metadata": {
    "collapsed": false,
    "pycharm": {
     "name": "#%%\n"
    }
   }
  },
  {
   "cell_type": "code",
   "execution_count": 77,
   "outputs": [
    {
     "data": {
      "text/plain": "torch.Size([5, 5, 5])"
     },
     "execution_count": 77,
     "metadata": {},
     "output_type": "execute_result"
    }
   ],
   "source": [
    "mask_encoder_pos_matrix.shape"
   ],
   "metadata": {
    "collapsed": false,
    "pycharm": {
     "name": "#%%\n"
    }
   }
  },
  {
   "cell_type": "code",
   "execution_count": 82,
   "outputs": [
    {
     "name": "stdout",
     "output_type": "stream",
     "text": [
      "torch.Size([5, 5, 5])\n"
     ]
    }
   ],
   "source": [
    "score = torch.randn(batch_size, max(src_len) + 1, max(src_len) + 1)\n",
    "print(score.shape)\n",
    "masked_score = score.masked_fill(mask_encoder_pos_matrix, -1e9)"
   ],
   "metadata": {
    "collapsed": false,
    "pycharm": {
     "name": "#%%\n"
    }
   }
  },
  {
   "cell_type": "code",
   "execution_count": 83,
   "outputs": [],
   "source": [
    "prob = F.softmax(masked_score, -1)"
   ],
   "metadata": {
    "collapsed": false,
    "pycharm": {
     "name": "#%%\n"
    }
   }
  },
  {
   "cell_type": "code",
   "execution_count": 85,
   "outputs": [
    {
     "data": {
      "text/plain": "tensor([[[ 1.9844e-02,  7.0300e-01,  7.9120e-01, -1.0000e+09, -1.0000e+09],\n         [-7.0288e-01, -1.6758e+00,  1.8230e+00, -1.0000e+09, -1.0000e+09],\n         [ 2.7541e-01, -1.6280e+00, -1.0990e+00, -1.0000e+09, -1.0000e+09],\n         [-1.0000e+09, -1.0000e+09, -1.0000e+09, -1.0000e+09, -1.0000e+09],\n         [-1.0000e+09, -1.0000e+09, -1.0000e+09, -1.0000e+09, -1.0000e+09]],\n\n        [[ 1.3281e+00, -1.2928e+00, -5.3599e-01,  4.7906e-02, -1.0000e+09],\n         [ 5.9424e-01,  4.2643e-01,  1.6178e+00,  2.2941e+00, -1.0000e+09],\n         [ 1.7913e+00,  1.6131e+00, -6.9231e-01,  1.3680e+00, -1.0000e+09],\n         [ 8.9133e-01, -1.2346e+00, -1.4193e+00,  4.0889e-02, -1.0000e+09],\n         [-1.0000e+09, -1.0000e+09, -1.0000e+09, -1.0000e+09, -1.0000e+09]],\n\n        [[ 1.8870e-01,  7.3259e-01, -1.4324e+00,  6.5178e-01, -1.0000e+09],\n         [ 4.8557e-01,  3.9648e-01, -5.4384e-01,  1.0643e+00, -1.0000e+09],\n         [-1.8655e-02, -5.4257e-01,  1.7989e-01,  1.2249e+00, -1.0000e+09],\n         [-8.8533e-01, -1.0227e+00,  1.4728e+00,  1.4934e+00, -1.0000e+09],\n         [-1.0000e+09, -1.0000e+09, -1.0000e+09, -1.0000e+09, -1.0000e+09]],\n\n        [[-2.2608e-02,  5.3663e-02,  1.9177e+00, -1.0000e+09, -1.0000e+09],\n         [-2.3320e+00, -2.4039e+00, -3.7354e-02, -1.0000e+09, -1.0000e+09],\n         [ 7.7091e-01, -2.5878e+00, -1.9448e-01, -1.0000e+09, -1.0000e+09],\n         [-1.0000e+09, -1.0000e+09, -1.0000e+09, -1.0000e+09, -1.0000e+09],\n         [-1.0000e+09, -1.0000e+09, -1.0000e+09, -1.0000e+09, -1.0000e+09]],\n\n        [[ 2.2519e-01, -1.0171e-01, -4.4930e-01,  7.6901e-01, -1.0000e+09],\n         [-1.4686e+00, -1.7142e+00, -8.5261e-01,  1.4571e+00, -1.0000e+09],\n         [-5.5056e-01, -1.0615e-01,  1.2478e-01, -1.0127e+00, -1.0000e+09],\n         [-3.5517e-01,  2.0969e-01,  1.0639e+00, -4.0327e-01, -1.0000e+09],\n         [-1.0000e+09, -1.0000e+09, -1.0000e+09, -1.0000e+09, -1.0000e+09]]])"
     },
     "execution_count": 85,
     "metadata": {},
     "output_type": "execute_result"
    }
   ],
   "source": [
    "masked_score\n"
   ],
   "metadata": {
    "collapsed": false,
    "pycharm": {
     "name": "#%%\n"
    }
   }
  },
  {
   "cell_type": "code",
   "execution_count": null,
   "outputs": [],
   "source": [],
   "metadata": {
    "collapsed": false,
    "pycharm": {
     "name": "#%%\n"
    }
   }
  }
 ],
 "metadata": {
  "kernelspec": {
   "display_name": "Python 3",
   "language": "python",
   "name": "python3"
  },
  "language_info": {
   "codemirror_mode": {
    "name": "ipython",
    "version": 2
   },
   "file_extension": ".py",
   "mimetype": "text/x-python",
   "name": "python",
   "nbconvert_exporter": "python",
   "pygments_lexer": "ipython2",
   "version": "2.7.6"
  }
 },
 "nbformat": 4,
 "nbformat_minor": 0
}